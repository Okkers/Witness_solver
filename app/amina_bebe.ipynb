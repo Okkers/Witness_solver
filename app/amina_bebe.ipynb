{
 "cells": [
  {
   "cell_type": "code",
   "execution_count": 19,
   "metadata": {},
   "outputs": [
    {
     "data": {
      "text/plain": [
       "[True, True, False]"
      ]
     },
     "execution_count": 19,
     "metadata": {},
     "output_type": "execute_result"
    }
   ],
   "source": [
    "import pandas as pd\n",
    "import glob\n",
    "import os \n",
    "\n",
    "# FOLDER BLOB -> file1.txt, file2.txt, file6.txt\n",
    "\n",
    "hej = pd.DataFrame({\"col1\": [\"file1.txt\", \"file2.txt\", \"file10.txt\"], \"col2\": [\"file3.txt\", \"file4.txt\", \"file5.txt\"]})\n",
    "[x in [os.path.basename(y) for y in glob.glob(\"blob/*\")] for x in hej[\"col1\"]]"
   ]
  }
 ],
 "metadata": {
  "kernelspec": {
   "display_name": "Python 3",
   "language": "python",
   "name": "python3"
  },
  "language_info": {
   "codemirror_mode": {
    "name": "ipython",
    "version": 3
   },
   "file_extension": ".py",
   "mimetype": "text/x-python",
   "name": "python",
   "nbconvert_exporter": "python",
   "pygments_lexer": "ipython3",
   "version": "3.9.1"
  },
  "orig_nbformat": 4
 },
 "nbformat": 4,
 "nbformat_minor": 2
}
